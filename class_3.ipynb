{
  "nbformat": 4,
  "nbformat_minor": 0,
  "metadata": {
    "colab": {
      "provenance": [],
      "authorship_tag": "ABX9TyMqGsDOBj5Tza8vmJe1Wd3g",
      "include_colab_link": true
    },
    "kernelspec": {
      "name": "python3",
      "display_name": "Python 3"
    },
    "language_info": {
      "name": "python"
    }
  },
  "cells": [
    {
      "cell_type": "markdown",
      "metadata": {
        "id": "view-in-github",
        "colab_type": "text"
      },
      "source": [
        "<a href=\"https://colab.research.google.com/github/jcorales/python/blob/clase-3/class_3.ipynb\" target=\"_parent\"><img src=\"https://colab.research.google.com/assets/colab-badge.svg\" alt=\"Open In Colab\"/></a>"
      ]
    },
    {
      "cell_type": "code",
      "execution_count": null,
      "metadata": {
        "colab": {
          "base_uri": "https://localhost:8080/"
        },
        "id": "8xhvzC7eYR-o",
        "outputId": "d6798c49-8283-4d9f-f7c1-b9edbe3c7a66"
      },
      "outputs": [
        {
          "output_type": "stream",
          "name": "stdout",
          "text": [
            "[1, 2, 3, 4]\n",
            "['texto', -1, 'experimento']\n"
          ]
        }
      ],
      "source": [
        "###LISTAS Y TUPLAS\n",
        "list_nu= [1,2,3,4]\n",
        "print(list_nu)\n",
        "list_nom = ['Hola','Mundo']\n",
        "list_nom\n",
        "list_het= ['texto', -1, \"experimento\"]\n",
        "print(list_het)"
      ]
    },
    {
      "cell_type": "code",
      "source": [
        "##buscar en el array \n",
        "list_het= ['texto', -1, \"experimento\"]\n",
        "print(list_het[1])\n",
        "\n",
        "print(len(list_het))\n",
        "print(\"###########################\")\n",
        "print(list_het[:-1])\n",
        "print(list_het[:-2])\n",
        "print(list_het[:-3])\n",
        "print(\"###########################\")\n",
        "print(list_het[:3])\n",
        "print(list_het[:1])\n",
        "print(list_het[:2])\n",
        "print(\"###########################\")\n",
        "list_test= ['texto', -1, \"experimento\", \"chama\", 7]\n",
        "list_test[1] = 1\n",
        "print(list_test)\n"
      ],
      "metadata": {
        "colab": {
          "base_uri": "https://localhost:8080/"
        },
        "id": "zFwHEj2jZRfe",
        "outputId": "f2e8e556-a85d-424c-9aff-3d0f65429685"
      },
      "execution_count": null,
      "outputs": [
        {
          "output_type": "stream",
          "name": "stdout",
          "text": [
            "-1\n",
            "3\n",
            "###########################\n",
            "['texto', -1]\n",
            "['texto']\n",
            "[]\n",
            "###########################\n",
            "['texto', -1, 'experimento']\n",
            "['texto']\n",
            "['texto', -1]\n",
            "###########################\n",
            "['texto', 1, 'experimento', 'chama', 7]\n"
          ]
        }
      ]
    },
    {
      "cell_type": "code",
      "source": [
        "list_num= [1,2,3,4]\n",
        "\n",
        "list_num= list_num + ['hola', 'mundo']\n",
        "print(list_num)\n",
        "\n",
        "list_num[1] = \"chevere\"\n",
        "print(list_num)\n"
      ],
      "metadata": {
        "colab": {
          "base_uri": "https://localhost:8080/"
        },
        "id": "z46b_9oDaoLh",
        "outputId": "2397bce4-7890-4bef-dbdf-5445a84c4008"
      },
      "execution_count": null,
      "outputs": [
        {
          "output_type": "stream",
          "name": "stdout",
          "text": [
            "[1, 2, 3, 4, 'hola', 'mundo']\n",
            "[1, 'chevere', 3, 4, 'hola', 'mundo']\n"
          ]
        }
      ]
    },
    {
      "cell_type": "code",
      "source": [
        "##APPEND\n",
        "\n"
      ],
      "metadata": {
        "id": "C7CACBx7cknP"
      },
      "execution_count": null,
      "outputs": []
    },
    {
      "cell_type": "code",
      "source": [
        "####LISTO DESAFÍO\n",
        "\n",
        "list_1= [456789, 'Hola Mundo']\n",
        "print(list_1)\n",
        "\n",
        "list_2= []\n",
        "list_2.append('Hola y Adios')\n",
        "list_2.append(55555)\n",
        "#list_class_2= ['Hola y Adios' , 55555]\n",
        "print(list_2)\n",
        "##############\n",
        "###############\n",
        "\n",
        "#list_class_3= list_1[:-1] \n",
        "#print(list_class_3)\n",
        "\n",
        "###############pop\n",
        "list_3= list_1.pop() \n",
        "print(list_3)\n",
        "\n",
        "##################\n",
        "\n",
        "###Eliminación ######\n",
        "print(\"###Eliminación ######\")\n",
        "\n",
        "list_4= list_2[1:-1] \n",
        "print(list_4)\n",
        "\n",
        "#####lista_5\n",
        "print(\"#####lista_5 -- suma de lista 1 y 2\")\n",
        "list_5 = list_1 + list_2\n",
        "print(list_5)\n",
        "\n",
        "############3\n",
        "datos = [1, -5, 123, 34, 'Una cadena', 'Otra cadena']\n",
        "datos.pop(4)\n",
        "print(datos)\n"
      ],
      "metadata": {
        "colab": {
          "base_uri": "https://localhost:8080/"
        },
        "id": "L6oFQcPvd1sB",
        "outputId": "c79eed4c-8b4d-4a16-c3c0-890d18fe8593"
      },
      "execution_count": null,
      "outputs": [
        {
          "output_type": "stream",
          "name": "stdout",
          "text": [
            "[456789, 'Hola Mundo']\n",
            "['Hola y Adios', 55555]\n",
            "Hola Mundo\n",
            "###Eliminación ######\n",
            "[]\n",
            "#####lista_5 -- suma de lista 1 y 2\n",
            "[456789, 'Hola y Adios', 55555]\n",
            "[1, -5, 123, 34, 'Otra cadena']\n"
          ]
        }
      ]
    },
    {
      "cell_type": "code",
      "source": [
        "##Tuplas\n",
        "\n",
        "list_tupla = (1, 2, 3,7,7, 4, 5, 6, 7, \"hola\", 9, 10)\n",
        "print(list_tupla[9:11])\n",
        "print(list_tupla[-1])\n",
        "print(len(list_tupla))\n",
        "print(list_tupla.index(\"hola\"))\n",
        "print(list_tupla[7:11])\n",
        "print(list_tupla.count(7))\n",
        "\n",
        "####crear list con los 3 últimas las tuplas ###\n",
        "\n",
        "lista_tupla2 = list_tupla[:-3]\n",
        "print(lista_tupla2)\n",
        "lista_tupla2 = list_tupla[-3:]\n",
        "print(lista_tupla2)\n",
        "print(list_tupla[8])\n",
        "print(list_tupla.count(7))\n",
        "\n",
        "\n",
        "\n"
      ],
      "metadata": {
        "colab": {
          "base_uri": "https://localhost:8080/"
        },
        "id": "jERmRSVCkN-X",
        "outputId": "122d6749-5451-4980-c4e7-2374f323cd06"
      },
      "execution_count": null,
      "outputs": [
        {
          "output_type": "stream",
          "name": "stdout",
          "text": [
            "('hola', 9)\n",
            "10\n",
            "12\n",
            "9\n",
            "(6, 7, 'hola', 9)\n",
            "3\n",
            "(1, 2, 3, 7, 7, 4, 5, 6, 7)\n",
            "('hola', 9, 10)\n",
            "7\n",
            "3\n"
          ]
        }
      ]
    },
    {
      "cell_type": "code",
      "source": [
        "#elimina los números\n",
        "letras = [\"a\", \"b\", \"c\", \"d\", \"e\", 5]\n",
        "letras [-1:] = []\n",
        "print(letras)\n",
        "\n",
        "print(\"####\")\n",
        "#elimina los números\n",
        "letras2 = [1, 2, 3, \"d\", \"e\", 5,6]\n",
        "print(letras2)\n",
        "letras2 [:1] = [\"comenzemos\"]\n",
        "print(letras2)\n",
        "\n",
        "\n",
        "print(\"####\")\n",
        "#borra los números\n",
        "letras3 = [1, 2, 3, \"d\", \"e\", 5,6, \"h\", \"j\"]\n",
        "print(letras3)\n",
        "letras4 = letras3 [:3] \n",
        "letras5 = letras3 [5:-2] \n",
        "print(letras4)\n",
        "print(letras5)\n",
        "letras6=[]\n",
        "letras6.append(4)\n",
        "print(letras6)\n",
        "print(letras4 + letras6 + letras5)"
      ],
      "metadata": {
        "colab": {
          "base_uri": "https://localhost:8080/"
        },
        "id": "ntXvBAEMS_cu",
        "outputId": "d1394f8b-f1b1-480f-db4d-6abbaf8e303b"
      },
      "execution_count": null,
      "outputs": [
        {
          "output_type": "stream",
          "name": "stdout",
          "text": [
            "['a', 'b', 'c', 'd', 'e']\n",
            "####\n",
            "[1, 2, 3, 'd', 'e', 5, 6]\n",
            "['comenzemos', 2, 3, 'd', 'e', 5, 6]\n",
            "####\n",
            "[1, 2, 3, 'd', 'e', 5, 6, 'h', 'j']\n",
            "[1, 2, 3]\n",
            "[5, 6]\n",
            "[4]\n",
            "[1, 2, 3, 4, 5, 6]\n"
          ]
        }
      ]
    },
    {
      "cell_type": "code",
      "source": [
        "###append + elimar duplicados y letras y sorted , luego covertir en tupla###\n",
        "from collections import OrderedDict\n",
        "lista_num=[1, 2, 5,3,4,5,7, 'd', 'e', 3,8, 6, 'h', 'j']\n",
        "print(lista_num)\n",
        "lista_num1 = lista_num [:7]\n",
        "#lista_num1.sort()\n",
        "lista_num2 = lista_num [9:-2]\n",
        "#lista_num2.sort()\n",
        "print(lista_num1)\n",
        "print(lista_num2)\n",
        "\n",
        "print(\"####\")\n",
        "\n",
        "lista_final= lista_num1 + lista_num2\n",
        "print(lista_final)\n",
        "lista_final.sort()\n",
        "lista_final = list(OrderedDict.fromkeys(lista_final))\n",
        "print(lista_final)\n",
        "\n",
        "print(\"####\")\n",
        "print(\"incluyendo el 9 y el 10\")\n",
        "\n",
        "lista_final.append(9)\n",
        "print(len(lista_final))\n",
        "lista_final.insert(len(lista_final),10)\n",
        "print(lista_final)\n",
        "print(\"##list a tuple y tuple a list##\")\n",
        "#tuple(lista_final)\n",
        "print(tuple(lista_final))\n",
        "print(list(lista_final))\n",
        "\n",
        "print(\"##suma todo los números de la lisa##\")\n",
        "print(sum(lista_final))\n",
        "\n"
      ],
      "metadata": {
        "id": "sHqAaoquyEg3",
        "outputId": "eee64cb2-c009-4c34-949c-f971f904703c",
        "colab": {
          "base_uri": "https://localhost:8080/"
        }
      },
      "execution_count": 171,
      "outputs": [
        {
          "output_type": "stream",
          "name": "stdout",
          "text": [
            "[1, 2, 5, 3, 4, 5, 7, 'd', 'e', 3, 8, 6, 'h', 'j']\n",
            "[1, 2, 5, 3, 4, 5, 7]\n",
            "[3, 8, 6]\n",
            "####\n",
            "[1, 2, 5, 3, 4, 5, 7, 3, 8, 6]\n",
            "[1, 2, 3, 4, 5, 6, 7, 8]\n",
            "####\n",
            "incluyendo el 9 y el 10\n",
            "9\n",
            "[1, 2, 3, 4, 5, 6, 7, 8, 9, 10]\n",
            "##list a tuple y tuple a list##\n",
            "(1, 2, 3, 4, 5, 6, 7, 8, 9, 10)\n",
            "[1, 2, 3, 4, 5, 6, 7, 8, 9, 10]\n",
            "##suma##\n",
            "55\n"
          ]
        }
      ]
    },
    {
      "cell_type": "code",
      "source": [
        "##ejercicios\n",
        "\n",
        "num_1 = 9\n",
        "num_2 = 3\n",
        "num_3 = 6\n",
        "\n",
        "num_final= num_1 + num_2 + num_3 / 3\n",
        "\n",
        "print(num_final)\n",
        "list_promedio= []\n",
        "list_promedio.append(num_final)\n",
        "print(list_promedio)\n",
        "print(tuple(list_promedio))\n",
        "\n",
        "\n"
      ],
      "metadata": {
        "colab": {
          "base_uri": "https://localhost:8080/"
        },
        "id": "bQz0y6n55IzF",
        "outputId": "b4234f76-8f10-41d8-b650-9e31fdf051ec"
      },
      "execution_count": 125,
      "outputs": [
        {
          "output_type": "stream",
          "name": "stdout",
          "text": [
            "14.0\n",
            "[14.0]\n",
            "(14.0,)\n"
          ]
        }
      ]
    },
    {
      "cell_type": "code",
      "source": [
        "###convertir un var en lista###\n",
        "\n",
        "a = \"pithon\"\n",
        "#a = a[0:1]\n",
        "print(a)\n",
        "#a = a[2:]\n",
        "#print(a)\n",
        "\n",
        "a = a[0:1] + 'y' + a[2:]\n",
        "print(a)\n",
        "\n",
        "print(\"##########\")\n",
        "b = \"pithon\"\n",
        "#list(b)\n",
        "b = list(b)\n",
        "print(b)\n",
        "b[1]= 'y' \n",
        "print(b)\n"
      ],
      "metadata": {
        "colab": {
          "base_uri": "https://localhost:8080/"
        },
        "id": "VWLpFEBZ7ilu",
        "outputId": "b63dac67-bbe8-4b78-bc60-481589cd46e1"
      },
      "execution_count": 168,
      "outputs": [
        {
          "output_type": "stream",
          "name": "stdout",
          "text": [
            "pithon\n",
            "python\n",
            "##########\n",
            "['p', 'i', 't', 'h', 'o', 'n']\n",
            "['p', 'y', 't', 'h', 'o', 'n']\n"
          ]
        }
      ]
    },
    {
      "cell_type": "code",
      "source": [
        "###matriz####\n",
        "\n",
        "matriz = [ \n",
        "    [1, 5, 1],\n",
        "    [2, 1, 2],\n",
        "    [3, 0, 1],\n",
        "    [1, 4, 4]\n",
        "]\n",
        "matriz[0].append(sum(matriz[0]))\n",
        "matriz[1].append(sum(matriz[1]))\n",
        "matriz[2].append(sum(matriz[2]))\n",
        "matriz[3].append(sum(matriz[3]))\n",
        "\n",
        "print(matriz)\n",
        "\n",
        "#########\n",
        "matriz_0 = list(matriz[0])\n",
        "matriz_1 = list(matriz[1])\n",
        "matriz_2 = list(matriz[2])\n",
        "matriz_3 = list(matriz[3])\n",
        "\n",
        "print(\"suma  matriz\")\n",
        "print( \"la suma de la matriz 0 es:\", matriz_0[-1:])\n",
        "print(\"la suma de la matriz 1 es:\", matriz_1[-1:])\n",
        "print(\"la suma de la matriz 2 es:\", matriz_2[-1:])\n",
        "print(\"la suma de la matriz 3 es:\", matriz_3[-1:])\n",
        "\n",
        "\n",
        "print(\"resultado   matriz en lista\")\n",
        "\n",
        "matriz_final = matriz_0[-1:] + matriz_1[-1:] + matriz_2[-1:] + matriz_3[-1:]\n",
        "print(matriz_final)\n",
        "\n"
      ],
      "metadata": {
        "colab": {
          "base_uri": "https://localhost:8080/"
        },
        "id": "EqDlD8JqIbIj",
        "outputId": "1b137657-a882-4d76-9cea-6c3135d88768"
      },
      "execution_count": 188,
      "outputs": [
        {
          "output_type": "stream",
          "name": "stdout",
          "text": [
            "[[1, 5, 1, 7], [2, 1, 2, 5], [3, 0, 1, 4], [1, 4, 4, 9]]\n",
            "suma  matriz\n",
            "la suma de la matriz 0 es: [7]\n",
            "la suma de la matriz 1 es: [5]\n",
            "la suma de la matriz 2 es: [4]\n",
            "la suma de la matriz 3 es: [9]\n",
            "resultado   matriz en lista\n",
            "[7, 5, 4, 9]\n"
          ]
        }
      ]
    }
  ]
}