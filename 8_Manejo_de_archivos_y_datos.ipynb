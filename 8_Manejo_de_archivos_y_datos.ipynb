{
  "cells": [
    {
      "cell_type": "markdown",
      "metadata": {
        "id": "view-in-github",
        "colab_type": "text"
      },
      "source": [
        "<a href=\"https://colab.research.google.com/github/jcorales/python/blob/Clases/8_Manejo_de_archivos_y_datos.ipynb\" target=\"_parent\"><img src=\"https://colab.research.google.com/assets/colab-badge.svg\" alt=\"Open In Colab\"/></a>"
      ]
    },
    {
      "cell_type": "code",
      "execution_count": null,
      "metadata": {
        "colab": {
          "base_uri": "https://localhost:8080/"
        },
        "id": "DU9-AN-nca1n",
        "outputId": "d6380f8f-0d31-4e4e-da04-f16bfdbcc81b"
      },
      "outputs": [
        {
          "name": "stdout",
          "output_type": "stream",
          "text": [
            "Mounted at /drive/\n"
          ]
        }
      ],
      "source": [
        "from google.colab import drive\n",
        "drive.mount('/drive/')\n"
      ]
    },
    {
      "cell_type": "markdown",
      "metadata": {
        "id": "5GvTr_7VnkbG"
      },
      "source": [
        "abrir archivo = open\n",
        "open ('ruta y nombre de extensión' , \n",
        "'w - escritura, r - lectura, a - agregar)\n",
        ")"
      ]
    },
    {
      "cell_type": "code",
      "execution_count": null,
      "metadata": {
        "id": "es2PDpfgnbnB"
      },
      "outputs": [],
      "source": [
        "archivo= open('ejem_00.txt', 'w', encoding='utf-8')\n",
        "archivo.write(\"Esto es un ejemplo de archivo txt\")\n",
        "archivo.close()\n",
        "\n"
      ]
    },
    {
      "cell_type": "code",
      "execution_count": null,
      "metadata": {
        "colab": {
          "base_uri": "https://localhost:8080/"
        },
        "id": "Csuki9uepZLL",
        "outputId": "3e7455e2-1e92-4185-ed23-4c321d516035"
      },
      "outputs": [
        {
          "name": "stdout",
          "output_type": "stream",
          "text": [
            "Esto es un ejemplo de archivo txt\n"
          ]
        }
      ],
      "source": [
        "archivo= open('ejem_00.txt', 'r', encoding='utf-8')\n",
        "datos = archivo.read()\n",
        "print(datos)\n",
        "archivo.close()"
      ]
    },
    {
      "cell_type": "code",
      "execution_count": null,
      "metadata": {
        "colab": {
          "base_uri": "https://localhost:8080/"
        },
        "id": "7wtaC2xwrauo",
        "outputId": "ff7b0254-9f15-4bec-e272-93b3573f1f13"
      },
      "outputs": [
        {
          "name": "stdout",
          "output_type": "stream",
          "text": [
            "Nombre: abel\n",
            "Apellido: corales\n",
            "Email: abel.corales@gmail.com\n",
            "Edad: 41\n"
          ]
        }
      ],
      "source": [
        "nombre = str(input('Nombre: ')).title()\n",
        "apellido = str(input('Apellido: ')).upper()\n",
        "email = str(input('Email: ')).lower()\n",
        "edad = int(input('Edad: '))\n",
        "\n",
        "datos = {'Nombre':nombre,'Apellido':apellido,'Email':email,'Edad':edad}\n",
        "\n",
        "agenda = open('agenda.txt', 'w', encoding='utf-8')\n",
        "agenda.write(datos['Apellido'] + ', ' + datos['Nombre'] + ', ' + datos['Email'] + ', ' + str(datos['Edad']))\n",
        "agenda.close()\n"
      ]
    },
    {
      "cell_type": "code",
      "execution_count": null,
      "metadata": {
        "colab": {
          "base_uri": "https://localhost:8080/"
        },
        "id": "fgFZWP98rln9",
        "outputId": "d1074689-2e1e-4cf4-c6db-abc31fa0909f"
      },
      "outputs": [
        {
          "name": "stdout",
          "output_type": "stream",
          "text": [
            "CORALES, Abel, abel.corales@gmail.com, 41\n"
          ]
        }
      ],
      "source": [
        "agenda = open('agenda.txt', 'r', encoding='utf-8')\n",
        "datos = agenda.read()\n",
        "print(datos)\n",
        "agenda.close()"
      ]
    },
    {
      "cell_type": "markdown",
      "metadata": {
        "id": "cicm5mSUsq3W"
      },
      "source": [
        "'''\n",
        "Crea un programa que pida por teclado (input) los datos de tus tres hobbies favoritos\n",
        "y los mismos se guarden en un archivo que se llame miHobbieFavorito.txt.\n",
        "\n",
        "EXTRA: Hacerlo con un for o un while para no repetir tanto…!!!'''"
      ]
    },
    {
      "cell_type": "code",
      "execution_count": 75,
      "metadata": {
        "colab": {
          "base_uri": "https://localhost:8080/"
        },
        "id": "fBehpwKQsWxt",
        "outputId": "2b4a3337-9ec8-47fe-f789-a6149158793a"
      },
      "outputs": [
        {
          "output_type": "stream",
          "name": "stdout",
          "text": [
            "Escribe hobbie # 1 :pepa\n",
            "Escribe hobbie # 2 :mard\n",
            "Escribe hobbie # 3 :pepepe\n",
            "termina hobbies\n"
          ]
        }
      ],
      "source": [
        "lista_hobbie = []\n",
        "contador = 1\n",
        "\n",
        "while contador < 4:\n",
        "  lista_hobbie.append(input(f'Escribe hobbie # {contador} :'))\n",
        "  HobbieFavorito = open('miHobbieFavorito.txt', 'w', encoding='utf-8')\n",
        "  HobbieFavorito.write(str(lista_hobbie))\n",
        "  HobbieFavorito.close()\n",
        "  contador += 1\n",
        "print(\"termina hobbies\")\n",
        "\n",
        "\n",
        "\n",
        "\n",
        "\n",
        "\n",
        "\n"
      ]
    },
    {
      "cell_type": "code",
      "source": [
        "archivo = open('ejem_00.txt','r',encoding='utf-8')\n",
        "datos = archivo.read()\n",
        "print(datos)\n",
        "archivo.close()"
      ],
      "metadata": {
        "colab": {
          "base_uri": "https://localhost:8080/"
        },
        "id": "PYk7HYqNzGim",
        "outputId": "8aa327bb-ff26-4540-8060-858836046291"
      },
      "execution_count": null,
      "outputs": [
        {
          "output_type": "stream",
          "name": "stdout",
          "text": [
            "Esto es un ejemplo de archivo txt\n",
            "segunda linea\n",
            "tercera linea\n"
          ]
        }
      ]
    },
    {
      "cell_type": "code",
      "source": [
        "archivo = open('ejem_00.txt','r',encoding='utf-8')\n",
        "datos = archivo.readlines()\n",
        "  while datos != '':\n",
        "    print(datos)\n",
        "    datos = archivo.readlines()\n",
        "print(datos)\n",
        "archivo.close()"
      ],
      "metadata": {
        "colab": {
          "base_uri": "https://localhost:8080/",
          "height": 131
        },
        "id": "F31geZsd0FP_",
        "outputId": "841e7496-3751-41b7-d29b-b973ed01afb0"
      },
      "execution_count": null,
      "outputs": [
        {
          "output_type": "error",
          "ename": "IndentationError",
          "evalue": "ignored",
          "traceback": [
            "\u001b[0;36m  File \u001b[0;32m\"<ipython-input-39-78a254ed80f9>\"\u001b[0;36m, line \u001b[0;32m3\u001b[0m\n\u001b[0;31m    while datos != '':\u001b[0m\n\u001b[0m    ^\u001b[0m\n\u001b[0;31mIndentationError\u001b[0m\u001b[0;31m:\u001b[0m unexpected indent\n"
          ]
        }
      ]
    }
  ],
  "metadata": {
    "colab": {
      "provenance": [],
      "authorship_tag": "ABX9TyPen1WyGDld71nQCGLdLDby",
      "include_colab_link": true
    },
    "kernelspec": {
      "display_name": "Python 3",
      "name": "python3"
    },
    "language_info": {
      "name": "python"
    }
  },
  "nbformat": 4,
  "nbformat_minor": 0
}