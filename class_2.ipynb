{
  "nbformat": 4,
  "nbformat_minor": 0,
  "metadata": {
    "colab": {
      "provenance": [],
      "authorship_tag": "ABX9TyP9o4dPX1DNSSSvrcbzw9By",
      "include_colab_link": true
    },
    "kernelspec": {
      "name": "python3",
      "display_name": "Python 3"
    },
    "language_info": {
      "name": "python"
    }
  },
  "cells": [
    {
      "cell_type": "markdown",
      "metadata": {
        "id": "view-in-github",
        "colab_type": "text"
      },
      "source": [
        "<a href=\"https://colab.research.google.com/github/jcorales/python/blob/clase-2/class_2.ipynb\" target=\"_parent\"><img src=\"https://colab.research.google.com/assets/colab-badge.svg\" alt=\"Open In Colab\"/></a>"
      ]
    },
    {
      "cell_type": "code",
      "execution_count": 16,
      "metadata": {
        "colab": {
          "base_uri": "https://localhost:8080/"
        },
        "id": "iLZp12kAKH-J",
        "outputId": "0a3c6439-8f1d-4903-bb1c-a1cb2021dcf1"
      },
      "outputs": [
        {
          "output_type": "stream",
          "name": "stdout",
          "text": [
            "6\n",
            "12\n",
            "2\n",
            "2.0\n",
            "32\n"
          ]
        }
      ],
      "source": [
        "##operadores\n",
        "c= 4*3\n",
        "print(2+4)\n",
        "print(c)\n",
        "print (10//5) ##divide sin float\n",
        "print (10/5) ##divide con float\n",
        "print (2**5)\n",
        "\n"
      ]
    },
    {
      "cell_type": "code",
      "source": [
        "###texto\n",
        "####texto\n",
        "a = 'Hola mundo\\tsergio-tabulado\\t!!!' ###\\t (tabulador)\n",
        "print(a)\n",
        "print(\"###########\")\n",
        "print(\"esto es un texto\\ttabulado\")\n",
        "print(\"###########\")\n",
        "print(\"esto es un texto\\ncontra-barran n \\n vamos a ver.\") ####salto entre lineas\n",
        "print(\"###########\")\n",
        "print('c:\\nombre\\tarea')\n",
        "print('c:\\\\nombre\\\\tarea') ## \\\\ muestra la info como se presenta pero con una sola contrabarra\n",
        "print(r'c:\\nombre\\tarea') ## (r') crudo o raw\n",
        "print(\"triple comilla\")\n",
        "print(\"\"\"Hola Susana,\n",
        "ya comenzó \n",
        "la clase\"\"\")\n",
        "print(\"\\nHola Susana, \\nya comenzó \\nla clase\")"
      ],
      "metadata": {
        "colab": {
          "base_uri": "https://localhost:8080/"
        },
        "id": "oXwa_oYtNu10",
        "outputId": "19f2e81f-958e-4423-d79e-e9d478ce4a1e"
      },
      "execution_count": 31,
      "outputs": [
        {
          "output_type": "stream",
          "name": "stdout",
          "text": [
            "Hola mundo\tsergio-tabulado\t!!!\n",
            "###########\n",
            "esto es un texto\ttabulado\n",
            "###########\n",
            "esto es un texto\n",
            "contra-barran n \n",
            " vamos a ver.\n",
            "###########\n",
            "c:\n",
            "ombre\tarea\n",
            "c:\\nombre\\tarea\n",
            "c:\\nombre\\tarea\n",
            "triple comilla\n",
            "Hola Susana,\n",
            "ya comenzó \n",
            "la clase\n",
            "\n",
            "Hola Susana, \n",
            "ya comenzó \n",
            "la clase\n"
          ]
        }
      ]
    },
    {
      "cell_type": "code",
      "source": [
        "print(\"ejemplo de ingreso datos input\")\n",
        "print(\"##########\")\n",
        "var1=50\n",
        "var2=40\n",
        "\n",
        "int_var_1= input('ingrese valor 1: ')\n",
        "int_var_2= input('ingrese valor 2: ')\n",
        "\n",
        "print('(la suma de int_var_1 y int_var_2) es:  ' , float(int_var_1)+ float(int_var_2) ) \n"
      ],
      "metadata": {
        "colab": {
          "base_uri": "https://localhost:8080/"
        },
        "id": "ZqfrE_YCY2XC",
        "outputId": "c8bbb02a-2789-4fd6-8356-3bf5c1c10536"
      },
      "execution_count": 51,
      "outputs": [
        {
          "output_type": "stream",
          "name": "stdout",
          "text": [
            "ejemplo de datos\n",
            "##########\n",
            "ingrese valor 1: 4.5\n",
            "ingrese valor 2: 4.5\n",
            "(la suma de int_var_1 y int_var_2) es:   9.0\n"
          ]
        }
      ]
    },
    {
      "cell_type": "code",
      "source": [
        "###suma de cadenas de texto\n",
        "\n",
        "a = \"hola \"\n",
        "b = \"mundo \"\n",
        "\n",
        "print((a+b)*2)"
      ],
      "metadata": {
        "colab": {
          "base_uri": "https://localhost:8080/"
        },
        "id": "1u88a129cMYx",
        "outputId": "d6df84ff-3446-4a5d-c686-2e2b0fdb270b"
      },
      "execution_count": 53,
      "outputs": [
        {
          "output_type": "stream",
          "name": "stdout",
          "text": [
            "hola mundo hola mundo \n"
          ]
        }
      ]
    },
    {
      "cell_type": "code",
      "source": [
        "####cadenas de caracteres############3\n",
        "#print(\"listas\")\n",
        "\n",
        "a='HOLA MUNDO'\n",
        "print(a[0])\n",
        "print(a[-3])\n",
        "print(a[2])\n",
        "print(a[:-1])\n",
        "print(a[1:6])\n",
        "print(a[::-1])\n",
        "\n",
        "print(len(a))\n"
      ],
      "metadata": {
        "colab": {
          "base_uri": "https://localhost:8080/"
        },
        "id": "mXQz8-c6eSSR",
        "outputId": "2aef3aba-3abf-4749-aa9c-573025a07d32"
      },
      "execution_count": 1,
      "outputs": [
        {
          "output_type": "stream",
          "name": "stdout",
          "text": [
            "H\n",
            "N\n",
            "L\n",
            "HOLA MUND\n",
            "OLA M\n",
            "ODNUM ALOH\n",
            "10\n"
          ]
        }
      ]
    },
    {
      "cell_type": "code",
      "source": [],
      "metadata": {
        "id": "uxxRNwhwgPRU"
      },
      "execution_count": 1,
      "outputs": []
    },
    {
      "cell_type": "code",
      "source": [
        "a = 'Hola Mundo'\n",
        "print(a[0])\n",
        "print(a[6])\n",
        "print(a[-3])\n"
      ],
      "metadata": {
        "colab": {
          "base_uri": "https://localhost:8080/"
        },
        "id": "ljvvYyz0fQmF",
        "outputId": "a4c7a8ce-5dc0-42b2-8cc7-2707a7882844"
      },
      "execution_count": 2,
      "outputs": [
        {
          "output_type": "stream",
          "name": "stdout",
          "text": [
            "H\n",
            "u\n",
            "n\n"
          ]
        }
      ]
    },
    {
      "cell_type": "code",
      "source": [
        "a = 'pithon'\n",
        "print(a)\n",
        "a = a[0:1]+'y'+a[2:]\n",
        "print(a) "
      ],
      "metadata": {
        "colab": {
          "base_uri": "https://localhost:8080/"
        },
        "id": "UFuZso8ugTdh",
        "outputId": "a433870a-112d-40e1-df47-e2d050eab12e"
      },
      "execution_count": 3,
      "outputs": [
        {
          "output_type": "stream",
          "name": "stdout",
          "text": [
            "pithon\n",
            "python\n"
          ]
        }
      ]
    },
    {
      "cell_type": "code",
      "source": [
        "#test#"
      ],
      "metadata": {
        "id": "ZRFmHkgXZnu2"
      },
      "execution_count": null,
      "outputs": []
    }
  ]
}