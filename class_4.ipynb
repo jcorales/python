{
  "nbformat": 4,
  "nbformat_minor": 0,
  "metadata": {
    "colab": {
      "provenance": [],
      "authorship_tag": "ABX9TyOo9KkBoham5VH6Y6hyStzQ",
      "include_colab_link": true
    },
    "kernelspec": {
      "name": "python3",
      "display_name": "Python 3"
    },
    "language_info": {
      "name": "python"
    }
  },
  "cells": [
    {
      "cell_type": "markdown",
      "metadata": {
        "id": "view-in-github",
        "colab_type": "text"
      },
      "source": [
        "<a href=\"https://colab.research.google.com/github/jcorales/python/blob/clase-4/class_4.ipynb\" target=\"_parent\"><img src=\"https://colab.research.google.com/assets/colab-badge.svg\" alt=\"Open In Colab\"/></a>"
      ]
    },
    {
      "cell_type": "code",
      "source": [
        "#---------------------------------------------------------------\n",
        "# Generaciones\n",
        "#---------------------------------------------------------------\n",
        "a_n = int(input('Año de Nacimiento: '))\n",
        "print()\n",
        "if a_n >= 1920 and a_n <= 1940:\n",
        "    print('Pertenece a la Generación Silenciosa.')\n",
        "elif a_n >= 1946 and a_n <= 1964:\n",
        "    print('Pertenece a la Generación Baby Boomer.')\n",
        "elif a_n >= 1965 and a_n <= 1979:\n",
        "    print('Pertenece a la Generación X.')\n",
        "elif a_n >= 1980 and a_n <= 2000:\n",
        "    print('Pertenece a la Generación Y.')\n",
        "elif a_n >= 2001 and a_n <= 2010:\n",
        "    print('Pertenece a la Generación Z.')\n",
        "else:\n",
        "    print('No Pertenece a ninguna Generación.')\n",
        "\n",
        "print('\\n\\n\\t\\tFin.')\n"
      ],
      "metadata": {
        "colab": {
          "base_uri": "https://localhost:8080/"
        },
        "id": "C_82-AUemDl6",
        "outputId": "5a51d516-a0ca-43a0-dff2-0f57d6db6840"
      },
      "execution_count": null,
      "outputs": [
        {
          "output_type": "stream",
          "name": "stdout",
          "text": [
            "Año de Nacimiento: 1964\n",
            "\n",
            "Pertenece a la Generación Baby Boomer.\n",
            "\n",
            "\n",
            "\t\tFin.\n"
          ]
        }
      ]
    },
    {
      "cell_type": "code",
      "source": [
        "###generaciones\n",
        "\n",
        "edad=input('ingrese edad: ')\n",
        "fecha=2022\n",
        "\n",
        "##Generación Silenciosa - 1920 hasta 1940##\n",
        "GS = fecha - int(edad) \n",
        "if GS >= 1920 and GS <= 1940:\n",
        "    print('Pertenece a la Generación Silenciosa.')\n",
        "elif GS >= 1946 and GS <= 1964:\n",
        "    print('Pertenece a la Generación Baby Boomer.')\n",
        "elif GS >= 1965 and GS <= 1979:\n",
        "    print('Pertenece a la Generación X.')\n",
        "elif GS >= 1980 and GS <= 2000:\n",
        "    print('Pertenece a la Generación Y.')\n",
        "elif GS >= 2001 and GS <= 2010:\n",
        "    print('Pertenece a la Generación Z.')\n",
        "else:\n",
        "    print('No Pertenece a ninguna Generación.')\n",
        "\n",
        "print('\\n\\n\\t\\tFin.')\n",
        "\n",
        "\n"
      ],
      "metadata": {
        "colab": {
          "base_uri": "https://localhost:8080/"
        },
        "id": "qzEha0k8mRJe",
        "outputId": "e7e01cde-2456-4bde-f76f-d637a2de8b03"
      },
      "execution_count": null,
      "outputs": [
        {
          "output_type": "stream",
          "name": "stdout",
          "text": [
            "ingrese edad: 43\n",
            "Pertenece a la Generación X.\n",
            "\n",
            "\n",
            "\t\tFin.\n"
          ]
        }
      ]
    },
    {
      "cell_type": "code",
      "source": [
        "#---------------------------------------------------------------\n",
        "# Crédito Bancario\n",
        "#---------------------------------------------------------------\n",
        "edad = int(input('Edad: '))\n",
        "anti = int(input('Antigüedad: '))\n",
        "ingr = int(input('Ingresos: '))\n",
        "\n",
        "if edad >= 18:\n",
        "    if anti >= 3 and ingr >= 2500:\n",
        "        print('Se aprueba el Crédito.')\n",
        "    elif anti < 3 and ingr >= 4000:\n",
        "        print('Se aprueba el Crédito.')\n",
        "    else:\n",
        "        print('No se aprueba el crédito.')\n",
        "else:\n",
        "    print('Eres menor de edad.')\n",
        "\n",
        "print('\\n\\n\\t\\tFin.')\n",
        "\n"
      ],
      "metadata": {
        "colab": {
          "base_uri": "https://localhost:8080/"
        },
        "id": "yC9tIFA3tPz1",
        "outputId": "d9e8570b-376f-4fbd-eded-1629d5cb93df"
      },
      "execution_count": null,
      "outputs": [
        {
          "output_type": "stream",
          "name": "stdout",
          "text": [
            "Edad: 18\n",
            "Antigüedad: 3\n",
            "Ingresos: 2600\n",
            "Se aprueba el Crédito.\n",
            "\n",
            "\n",
            "\t\tFin.\n"
          ]
        }
      ]
    },
    {
      "cell_type": "code",
      "source": [
        "'''Un curso se ha dividido en dos grupos diferentes: A y B de acuerdo al nombre y a una preferencia (Marvel o Capcom). \n",
        "El grupo A está formado por fans de Marvel con un nombre anterior a la M y los fans de Capcom con un nombre posterior a la N \n",
        "y el grupo B por el resto. Escribir un programa que pregunte al usuario su nombre y preferencia, \n",
        "y muestre por pantalla el grupo que le corresponde.\n",
        "Ej.:\n",
        "¿Cómo te llamas?  Alan\n",
        "¿Cuál es tu preferencia (M o C)?  C\n",
        "Tu grupo es B\n",
        "Para preguntarle al usuario, recuerda usar input.\n",
        "'''\n",
        "\n",
        "#---------------------------------------------------------------\n",
        "# Marvel vs. CapCom\n",
        "#---------------------------------------------------------------\n",
        "nombre = input('Nombre: ')\n",
        "preferencia = input('Preferencia (M/C): ')\n",
        "print(nombre[0].upper())\n",
        "if (preferencia.upper() == 'M' and nombre[0].upper() < 'M') or (preferencia.upper() == 'C' and nombre[0].upper() > 'N'):\n",
        "    grupo = 'A'\n",
        "else:\n",
        "    grupo = 'B'\n",
        "print('\\n\\nTu grupo es el ', grupo)\n",
        "print('\\n\\n\\t\\tFin.')\n"
      ],
      "metadata": {
        "colab": {
          "base_uri": "https://localhost:8080/"
        },
        "id": "Vnb_crs-tRWT",
        "outputId": "e8dbfec0-23dd-4061-964d-92a9072dfcf8"
      },
      "execution_count": 34,
      "outputs": [
        {
          "output_type": "stream",
          "name": "stdout",
          "text": [
            "Nombre: DIANA\n",
            "Preferencia (M/C): C\n",
            "D\n",
            "\n",
            "\n",
            "Tu grupo es el  B\n",
            "\n",
            "\n",
            "\t\tFin.\n"
          ]
        }
      ]
    }
  ]
}