{
  "nbformat": 4,
  "nbformat_minor": 0,
  "metadata": {
    "colab": {
      "provenance": [],
      "authorship_tag": "ABX9TyMeCmTfoQGLvUNBE8Xohfw/",
      "include_colab_link": true
    },
    "kernelspec": {
      "name": "python3",
      "display_name": "Python 3"
    },
    "language_info": {
      "name": "python"
    }
  },
  "cells": [
    {
      "cell_type": "markdown",
      "metadata": {
        "id": "view-in-github",
        "colab_type": "text"
      },
      "source": [
        "<a href=\"https://colab.research.google.com/github/jcorales/python/blob/clase-3/class_3.ipynb\" target=\"_parent\"><img src=\"https://colab.research.google.com/assets/colab-badge.svg\" alt=\"Open In Colab\"/></a>"
      ]
    },
    {
      "cell_type": "code",
      "execution_count": null,
      "metadata": {
        "colab": {
          "base_uri": "https://localhost:8080/"
        },
        "id": "8xhvzC7eYR-o",
        "outputId": "665c6615-5e77-49d3-a58d-d19f1e8492ee"
      },
      "outputs": [
        {
          "output_type": "stream",
          "name": "stdout",
          "text": [
            "[1, 2, 3, 4]\n",
            "['texto', -1, 'experimento']\n"
          ]
        }
      ],
      "source": [
        "###LISTAS Y TUPLAS\n",
        "list_nu= [1,2,3,4]\n",
        "print(list_nu)\n",
        "list_nom = ['Hola','Mundo']\n",
        "list_nom\n",
        "list_het= ['texto', -1, \"experimento\"]\n",
        "print(list_het)"
      ]
    },
    {
      "cell_type": "code",
      "source": [
        "##buscar en el array \n",
        "list_het= ['texto', -1, \"experimento\"]\n",
        "print(list_het[1])\n",
        "\n",
        "print(len(list_het))\n",
        "\n",
        "print(list_het[:-1])\n",
        "print(list_het[:-2])\n",
        "print(list_het[:3])\n",
        "\n"
      ],
      "metadata": {
        "colab": {
          "base_uri": "https://localhost:8080/"
        },
        "id": "zFwHEj2jZRfe",
        "outputId": "9a6ff905-5121-4e19-e5ee-3c9635267ec6"
      },
      "execution_count": null,
      "outputs": [
        {
          "output_type": "stream",
          "name": "stdout",
          "text": [
            "-1\n",
            "3\n",
            "['texto', -1]\n",
            "['texto']\n",
            "['texto', -1, 'experimento']\n"
          ]
        }
      ]
    },
    {
      "cell_type": "code",
      "source": [
        "list_num= [1,2,3,4]\n",
        "\n",
        "list_num= list_num + ['hola', 'mundo']\n",
        "print(list_num)\n",
        "\n",
        "list_num[1] = \"chevere\"\n",
        "print(list_num)\n"
      ],
      "metadata": {
        "colab": {
          "base_uri": "https://localhost:8080/"
        },
        "id": "z46b_9oDaoLh",
        "outputId": "2397bce4-7890-4bef-dbdf-5445a84c4008"
      },
      "execution_count": null,
      "outputs": [
        {
          "output_type": "stream",
          "name": "stdout",
          "text": [
            "[1, 2, 3, 4, 'hola', 'mundo']\n",
            "[1, 'chevere', 3, 4, 'hola', 'mundo']\n"
          ]
        }
      ]
    },
    {
      "cell_type": "code",
      "source": [
        "##APPEND\n",
        "\n"
      ],
      "metadata": {
        "id": "C7CACBx7cknP"
      },
      "execution_count": null,
      "outputs": []
    },
    {
      "cell_type": "code",
      "source": [
        "####LISTO DESAFÍO\n",
        "\n",
        "list_1= [456789, 'Hola Mundo']\n",
        "print(list_1)\n",
        "\n",
        "list_2= []\n",
        "list_2.append('Hola y Adios')\n",
        "list_2.append(55555)\n",
        "#list_class_2= ['Hola y Adios' , 55555]\n",
        "print(list_2)\n",
        "##############\n",
        "###############\n",
        "\n",
        "#list_class_3= list_1[:-1] \n",
        "#print(list_class_3)\n",
        "\n",
        "###############pop\n",
        "list_3= list_1.pop() \n",
        "print(list_3)\n",
        "\n",
        "##################\n",
        "\n",
        "###Eliminación ######\n",
        "print(\"###Eliminación ######\")\n",
        "\n",
        "list_4= list_2[1:-1] \n",
        "print(list_4)\n",
        "\n",
        "#####lista_5\n",
        "print(\"#####lista_5 -- suma de lista 1 y 2\")\n",
        "list_5 = list_1 + list_2\n",
        "print(list_5)\n",
        "\n",
        "############3\n",
        "datos = [1, -5, 123, 34, 'Una cadena', 'Otra cadena']\n",
        "datos.pop(4)\n",
        "print(datos)\n"
      ],
      "metadata": {
        "colab": {
          "base_uri": "https://localhost:8080/"
        },
        "id": "L6oFQcPvd1sB",
        "outputId": "708ab781-6b16-494f-f787-e1c7aa11246e"
      },
      "execution_count": null,
      "outputs": [
        {
          "output_type": "stream",
          "name": "stdout",
          "text": [
            "[456789, 'Hola Mundo']\n",
            "['Hola y Adios', 55555]\n",
            "Hola Mundo\n",
            "###Eliminación ######\n",
            "[]\n",
            "#####lista_5 -- suma de lista 1 y 2\n",
            "[456789, 'Hola y Adios', 55555]\n",
            "[1, -5, 123, 34, 'Otra cadena']\n"
          ]
        }
      ]
    },
    {
      "cell_type": "code",
      "source": [
        "##Tuplas\n",
        "\n",
        "list_tupla = (1, 2, 3,7,7, 4, 5, 6, 7, \"hola\", 9, 10)\n",
        "print(list_tupla[9:11])\n",
        "print(list_tupla[-1])\n",
        "print(len(list_tupla))\n",
        "print(list_tupla.index(\"hola\"))\n",
        "print(list_tupla[7:11])\n",
        "print(list_tupla.count(7))\n",
        "\n",
        "####crear list con los 3 últimas las tuplas ###\n",
        "\n",
        "lista_tupla2 = list_tupla[:-3]\n",
        "print(lista_tupla2)\n",
        "lista_tupla2 = list_tupla[-3:]\n",
        "print(lista_tupla2)\n",
        "print(list_tupla[8])\n",
        "print(list_tupla.count(7))\n",
        "\n",
        "\n",
        "\n"
      ],
      "metadata": {
        "colab": {
          "base_uri": "https://localhost:8080/"
        },
        "id": "jERmRSVCkN-X",
        "outputId": "122d6749-5451-4980-c4e7-2374f323cd06"
      },
      "execution_count": null,
      "outputs": [
        {
          "output_type": "stream",
          "name": "stdout",
          "text": [
            "('hola', 9)\n",
            "10\n",
            "12\n",
            "9\n",
            "(6, 7, 'hola', 9)\n",
            "3\n",
            "(1, 2, 3, 7, 7, 4, 5, 6, 7)\n",
            "('hola', 9, 10)\n",
            "7\n",
            "3\n"
          ]
        }
      ]
    },
    {
      "cell_type": "code",
      "source": [
        "####prácticas\n",
        "\n",
        "print(a * 5)"
      ],
      "metadata": {
        "colab": {
          "base_uri": "https://localhost:8080/",
          "height": 203
        },
        "id": "4eUB92ClsIBo",
        "outputId": "0a21670f-4dfa-4a48-d961-e3bdffa2ac77"
      },
      "execution_count": null,
      "outputs": [
        {
          "output_type": "error",
          "ename": "NameError",
          "evalue": "ignored",
          "traceback": [
            "\u001b[0;31m---------------------------------------------------------------------------\u001b[0m",
            "\u001b[0;31mNameError\u001b[0m                                 Traceback (most recent call last)",
            "\u001b[0;32m<ipython-input-71-d908ab93db2c>\u001b[0m in \u001b[0;36m<module>\u001b[0;34m\u001b[0m\n\u001b[1;32m      1\u001b[0m \u001b[0;31m####prácticas\u001b[0m\u001b[0;34m\u001b[0m\u001b[0;34m\u001b[0m\u001b[0;34m\u001b[0m\u001b[0m\n\u001b[1;32m      2\u001b[0m \u001b[0;34m\u001b[0m\u001b[0m\n\u001b[0;32m----> 3\u001b[0;31m \u001b[0mprint\u001b[0m\u001b[0;34m(\u001b[0m\u001b[0ma\u001b[0m\u001b[0;34m*\u001b[0m\u001b[0;36m5\u001b[0m\u001b[0;34m)\u001b[0m\u001b[0;34m\u001b[0m\u001b[0;34m\u001b[0m\u001b[0m\n\u001b[0m",
            "\u001b[0;31mNameError\u001b[0m: name 'a' is not defined"
          ]
        }
      ]
    }
  ]
}