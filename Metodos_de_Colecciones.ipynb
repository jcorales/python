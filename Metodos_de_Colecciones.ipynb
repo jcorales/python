{
  "nbformat": 4,
  "nbformat_minor": 0,
  "metadata": {
    "colab": {
      "provenance": [],
      "authorship_tag": "ABX9TyO/WW8yMztmHW02wM2tmHCK",
      "include_colab_link": true
    },
    "kernelspec": {
      "name": "python3",
      "display_name": "Python 3"
    },
    "language_info": {
      "name": "python"
    }
  },
  "cells": [
    {
      "cell_type": "markdown",
      "metadata": {
        "id": "view-in-github",
        "colab_type": "text"
      },
      "source": [
        "<a href=\"https://colab.research.google.com/github/jcorales/python/blob/set-and-dic/Metodos_de_Colecciones.ipynb\" target=\"_parent\"><img src=\"https://colab.research.google.com/assets/colab-badge.svg\" alt=\"Open In Colab\"/></a>"
      ]
    },
    {
      "cell_type": "code",
      "execution_count": null,
      "metadata": {
        "colab": {
          "base_uri": "https://localhost:8080/"
        },
        "id": "3P9WR3uRbWzl",
        "outputId": "7b152f0d-da13-4755-aec7-4f8dd1780d6c"
      },
      "outputs": [
        {
          "output_type": "stream",
          "name": "stdout",
          "text": [
            "ingrese un número :8\n",
            "número erroneo pf, ingrese un número impar4\n",
            "número erroneo pf, ingrese un número impar11\n",
            "el número impar es  11\n"
          ]
        }
      ],
      "source": [
        "num_impar= int(input(\"ingrese un número :\"))\n",
        "\n",
        "while num_impar %2 == 0:\n",
        "  num_impar = int(input(\"número erroneo pf, ingrese un número impar\"))\n",
        "\n",
        "print (\"el número impar es \",num_impar)  "
      ]
    },
    {
      "cell_type": "code",
      "source": [
        "lista = [1,2,3,4]\n",
        "lista2 = [5,6,7,8]\n",
        "lista.extend(lista2)\n",
        "\n",
        "print(lista)\n",
        "\n",
        "lista.insert(len(lista),9)\n",
        "print(lista)\n",
        "\n",
        "lista.insert(len(lista),10)\n",
        "print(lista)\n",
        "\n",
        "lista.reverse()\n",
        "print(lista)\n",
        "\n",
        "lista.sort()\n",
        "print(lista)\n",
        "\n",
        "lista.sort(reverse=True) ####Ordenalo alreves\n",
        "print(lista)"
      ],
      "metadata": {
        "colab": {
          "base_uri": "https://localhost:8080/"
        },
        "id": "HtT9lDwZW4tr",
        "outputId": "1fa40cc7-ab2c-4421-d502-c2f429219b5e"
      },
      "execution_count": 11,
      "outputs": [
        {
          "output_type": "stream",
          "name": "stdout",
          "text": [
            "[1, 2, 3, 4, 5, 6, 7, 8]\n",
            "[1, 2, 3, 4, 5, 6, 7, 8, 9]\n",
            "[1, 2, 3, 4, 5, 6, 7, 8, 9, 10]\n",
            "[10, 9, 8, 7, 6, 5, 4, 3, 2, 1]\n",
            "[1, 2, 3, 4, 5, 6, 7, 8, 9, 10]\n",
            "[10, 9, 8, 7, 6, 5, 4, 3, 2, 1]\n"
          ]
        }
      ]
    },
    {
      "cell_type": "code",
      "source": [
        "'''\n",
        "Descripción de la actividad.\n",
        "\n",
        "Utilizando todo lo que sabes sobre cadenas, listas y sus\n",
        "métodos internos, transforma este texto:\n",
        "\n",
        "gordon lanzó su curva&strawberry ha fallado por un pie!\n",
        "-gritó Joe Castiglione&dos pies -le corrigió\n",
        "Troop&strawberry menea la cabeza como disgustado...\n",
        "-agrega el comentarista\n",
        "\n",
        "\n",
        "texto deberá quedar así\n",
        "\n",
        "Gordon lanzó su curva...\n",
        "- Strawberry ha fallado por un pie! -gritó Joe Castiglione.\n",
        "- Dos pies le corrigió Troop.\n",
        "- Strawberry menea la cabeza como disgustado... -agrega el\n",
        "comentarista\n",
        "\n",
        "'''\n",
        "relato = 'gordon lanzó su curva&strawberry ha fallado por un pie! -gritó Joe Castiglione&dos pies -le corrigió Troop&strawberry menea la cabeza como disgustado… -agrega el comentarista'\n",
        "relato_formateado = relato.split('&')\n",
        "\n",
        "for i in range(len(relato_formateado)):\n",
        "  if i == 0:\n",
        "    print(relato_formateado[i][0].upper() + relato_formateado[i][1:] + '...')\n",
        "  else:\n",
        "    print('-' + relato_formateado[i][0].upper() + relato_formateado[i][1:] + '.')\n",
        "\n",
        "\n",
        "\n"
      ],
      "metadata": {
        "colab": {
          "base_uri": "https://localhost:8080/"
        },
        "id": "lVtEwkvaaNXQ",
        "outputId": "3701a8e7-dbf5-4895-af6f-3b771db3ba84"
      },
      "execution_count": 21,
      "outputs": [
        {
          "output_type": "stream",
          "name": "stdout",
          "text": [
            "Gordon lanzó su curva...\n",
            "-Strawberry ha fallado por un pie! -gritó Joe Castiglione.\n",
            "-Dos pies -le corrigió Troop.\n",
            "-Strawberry menea la cabeza como disgustado… -agrega el comentarista.\n"
          ]
        }
      ]
    },
    {
      "cell_type": "code",
      "source": [
        "set_1 = {1,2,3,4}\n",
        "set_2=set_1.copy()\n",
        "print(set_1, set_2)\n",
        "set_3= {5,6,7}\n",
        "set_4= {2,4}\n",
        "print(set_1.isdisjoint(set_2))\n",
        "print(set_1.isdisjoint(set_3))\n",
        "print(set_1.issubset(set_2))\n",
        "print(set_1.issubset(set_3))\n",
        "print(set_1.issuperset(set_4))\n",
        "print(set_1.union(set_3))\n",
        "print(set_1.difference(set_4))\n"
      ],
      "metadata": {
        "colab": {
          "base_uri": "https://localhost:8080/"
        },
        "id": "MfP99s0vg4Su",
        "outputId": "6f8b2832-a6aa-4663-b027-5d5922e0e8a6"
      },
      "execution_count": 37,
      "outputs": [
        {
          "output_type": "stream",
          "name": "stdout",
          "text": [
            "{1, 2, 3, 4} {1, 2, 3, 4}\n",
            "False\n",
            "True\n",
            "True\n",
            "False\n",
            "True\n",
            "{1, 2, 3, 4, 5, 6, 7}\n",
            "{1, 3}\n",
            "None\n"
          ]
        }
      ]
    },
    {
      "cell_type": "code",
      "source": [
        "set_1 = {1,2,3}\n",
        "set_2= {3,4,5}\n",
        "\n",
        "set_1.difference_update(set_2)\n",
        "print(set_1)\n",
        "\n"
      ],
      "metadata": {
        "colab": {
          "base_uri": "https://localhost:8080/"
        },
        "id": "LjxQxZPTkSUw",
        "outputId": "8d4d5e2f-c214-4b59-b76f-1217e7e8cdf3"
      },
      "execution_count": 40,
      "outputs": [
        {
          "output_type": "stream",
          "name": "stdout",
          "text": [
            "{1, 2}\n"
          ]
        }
      ]
    },
    {
      "cell_type": "code",
      "source": [
        "set_1 = {1,2,3}\n",
        "set_2= {3,4,5}\n",
        "\n",
        "print(set_1.intersection(set_2))\n",
        "print(set_1)\n",
        "\n"
      ],
      "metadata": {
        "colab": {
          "base_uri": "https://localhost:8080/"
        },
        "id": "1cJ-A-lYlCCz",
        "outputId": "864d2a87-494a-4d7d-a61d-9659592c1d7d"
      },
      "execution_count": 42,
      "outputs": [
        {
          "output_type": "stream",
          "name": "stdout",
          "text": [
            "{3}\n",
            "{1, 2, 3}\n"
          ]
        }
      ]
    },
    {
      "cell_type": "code",
      "source": [
        "set_1 = {1,2,3}\n",
        "set_2= {3,4,5}\n",
        "\n",
        "print(set_1.intersection_update(set_2))\n",
        "print(set_1)\n"
      ],
      "metadata": {
        "colab": {
          "base_uri": "https://localhost:8080/"
        },
        "id": "J8UM2Cz_lTDy",
        "outputId": "cd334a6e-d569-4bd8-a171-d1a3840e7faa"
      },
      "execution_count": 43,
      "outputs": [
        {
          "output_type": "stream",
          "name": "stdout",
          "text": [
            "None\n",
            "{3}\n"
          ]
        }
      ]
    },
    {
      "cell_type": "code",
      "source": [
        "#Ejemplo 1:\n",
        "my_set_1 = set([1, 2, 3])\n",
        "my_set_2 = set([3, 4, 5])\n",
        "my_new_set = my_set_1.union(my_set_2)\n",
        "print(my_new_set)\n",
        "\n",
        "#Ejemplo 2:\n",
        "my_set_1 = set([1, 2, 3])\n",
        "my_set_2 = set([3, 4, 5])\n",
        "my_new_set = my_set_1.intersection(my_set_2)\n",
        "print(my_new_set)\n",
        "\n",
        "#Ejemplo 3:\n",
        "my_set_1 = set([1, 2, 3])\n",
        "my_set_2 = set([3, 4, 5])\n",
        "my_new_set = my_set_1.difference(my_set_2)\n",
        "print(my_new_set)\n",
        "\n",
        "my_new_set = my_set_2.difference(my_set_1)\n",
        "print(my_new_set)"
      ],
      "metadata": {
        "colab": {
          "base_uri": "https://localhost:8080/"
        },
        "id": "T8yDKkJCld67",
        "outputId": "9fa176b4-f0c9-402f-aa07-f76d4382e868"
      },
      "execution_count": 47,
      "outputs": [
        {
          "output_type": "stream",
          "name": "stdout",
          "text": [
            "{1, 2, 3, 4, 5}\n",
            "{3}\n",
            "{1, 2}\n",
            "{4, 5}\n"
          ]
        }
      ]
    },
    {
      "cell_type": "code",
      "source": [
        "colores = { \"amarillo\":\"yellow\", \"azul\":\"blue\", \"verde\":\"green\" }\n",
        "dict_items = colores.items()\n",
        "print(dict_items)\n",
        "\n",
        "for clave, valor in colores.items():\n",
        "\tprint(clave, valor)"
      ],
      "metadata": {
        "colab": {
          "base_uri": "https://localhost:8080/"
        },
        "id": "28A8wCP1nWFF",
        "outputId": "cea05a40-663c-4d4a-8336-4039df0ed4d2"
      },
      "execution_count": 50,
      "outputs": [
        {
          "output_type": "stream",
          "name": "stdout",
          "text": [
            "dict_items([('amarillo', 'yellow'), ('azul', 'blue'), ('verde', 'green')])\n",
            "amarillo yellow\n",
            "azul blue\n",
            "verde green\n"
          ]
        }
      ]
    },
    {
      "cell_type": "code",
      "source": [
        "'''\n",
        "Escribir un programa que guarde en una variable en un diccionario\n",
        "{'Dolar':'$','Euro':'€', 'Libra':'£'}.\n",
        "Luego se le deberá solicitar al usuario que ingrese la divisa que desea\n",
        "visualizar.\n",
        "En el caso de ingresar una divisa no existente en nuestro diccionario,\n",
        "deberemos indicarle con un mensaje de notificación que la divisa no se\n",
        "encuentra disponible.\n",
        "'''\n",
        "\n",
        "band = 0\n",
        "divisas = {'Dolar':'U$S', 'Euro': 'E', 'Libra': 'L'}\n",
        "#print (monedas)\n",
        "divisa = str(input(\"Ingrese la divisa a visualizar (Dolar | Euro | Libra): \"))\n",
        "for clave, valor in divisas.items ():\n",
        "  #print (clave, valor)\n",
        "  if (clave.upper() == divisa.upper()):\n",
        "    print (valor)\n",
        "    band = 1\n",
        "    break\n",
        "if (band == 0):\n",
        "    print (\"La divisa ingresada no exite.\")\n",
        "\n",
        "\n"
      ],
      "metadata": {
        "colab": {
          "base_uri": "https://localhost:8080/"
        },
        "id": "Gnmg9dTdo8Za",
        "outputId": "b8a5519a-d00e-4977-adfe-62ee4c50f5f2"
      },
      "execution_count": 54,
      "outputs": [
        {
          "output_type": "stream",
          "name": "stdout",
          "text": [
            "Ingrese la divisa a visualizar (Dolar | Euro | Libra): libra\n",
            "L\n"
          ]
        }
      ]
    },
    {
      "cell_type": "code",
      "source": [
        "monedas = {'Dolar':'$','Euro':'€', 'Libra':'£'}\n",
        "opcion = str(input('ingrese divisa: ')).capitalize()\n",
        "print(opcion)\n",
        "print(monedas.get(opcion))\n",
        "print(monedas.get(opcion,'La divisa no se encuentra disponible'))"
      ],
      "metadata": {
        "colab": {
          "base_uri": "https://localhost:8080/"
        },
        "id": "e7JEdzNGqX8f",
        "outputId": "ca5b9649-ff01-40a6-b15e-0e0206702545"
      },
      "execution_count": 67,
      "outputs": [
        {
          "output_type": "stream",
          "name": "stdout",
          "text": [
            "ingrese divisa: dkdñ\n",
            "Dkdñ\n",
            "None\n",
            "La divisa no se encuentra disponible\n"
          ]
        }
      ]
    },
    {
      "cell_type": "code",
      "source": [],
      "metadata": {
        "id": "crERE2M0qCdo"
      },
      "execution_count": null,
      "outputs": []
    }
  ]
}