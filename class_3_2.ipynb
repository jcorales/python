{
  "nbformat": 4,
  "nbformat_minor": 0,
  "metadata": {
    "colab": {
      "provenance": [],
      "authorship_tag": "ABX9TyMKIBjVDiDCNqQtx01gZ9li",
      "include_colab_link": true
    },
    "kernelspec": {
      "name": "python3",
      "display_name": "Python 3"
    },
    "language_info": {
      "name": "python"
    }
  },
  "cells": [
    {
      "cell_type": "markdown",
      "metadata": {
        "id": "view-in-github",
        "colab_type": "text"
      },
      "source": [
        "<a href=\"https://colab.research.google.com/github/jcorales/python/blob/clase-3/class_3_2.ipynb\" target=\"_parent\"><img src=\"https://colab.research.google.com/assets/colab-badge.svg\" alt=\"Open In Colab\"/></a>"
      ]
    },
    {
      "cell_type": "code",
      "execution_count": 1,
      "metadata": {
        "colab": {
          "base_uri": "https://localhost:8080/"
        },
        "id": "yALu1RWBGZef",
        "outputId": "83e48d82-9534-4117-b3ed-289f11dde48b"
      },
      "outputs": [
        {
          "output_type": "execute_result",
          "data": {
            "text/plain": [
              "False"
            ]
          },
          "metadata": {},
          "execution_count": 1
        }
      ],
      "source": [
        "###Expresiones Lógicas, operacionales###\n",
        "\n",
        "not 5 == 5"
      ]
    },
    {
      "cell_type": "code",
      "source": [
        "print(\"Ejercicio EDAD - Nombre\")\n",
        "print(\"##########\")\n",
        "nombre = input('Nombre: ')\n",
        "edad = int(input('Edad: '))\n",
        "\n",
        "estado = nombre != '****' and edad > 5 and edad < 20 and len(nombre)>=4 and len(nombre)<8 and edad*3 >35\n",
        "print(estado)\n"
      ],
      "metadata": {
        "colab": {
          "base_uri": "https://localhost:8080/"
        },
        "id": "NQC0necvObAn",
        "outputId": "395ca9d7-ee1a-40da-cded-d52753ac3a37"
      },
      "execution_count": 6,
      "outputs": [
        {
          "output_type": "stream",
          "name": "stdout",
          "text": [
            "Ejercicio EDAD - Nombre\n",
            "##########\n",
            "Nombre: mario\n",
            "Edad: 15\n",
            "True\n"
          ]
        }
      ]
    },
    {
      "cell_type": "code",
      "source": [
        "#####\n",
        "\"\"\"calcular el promedio final de los equipos de futbol en un torneo. \n",
        "Para ello, debemos considerar tres aspectos: \n",
        "\n",
        "** jugaron 20 partidos durante el torneo, \n",
        "** los partidos poseen diferente puntaje según el resultado, \n",
        "** los partidos ganados 3 puntos, partido empatado 1 punto, partido perdido 0 puntos,\n",
        "el promedio final resulta de la cantidad de puntos totales divididos la cantidad de partidos\n",
        "\n",
        "**partidos_ganados 8\n",
        "**partido_empatados 7\n",
        "**partido_perdidos 5\n",
        "\"\"\"\n",
        "\n",
        "\n",
        "print(\"Partidos River plate - Categoría Junior\")\n",
        "\n",
        "part_gan = input('Ingrese los partidos ganados: ') \n",
        "part_emp = input('Ingrese los partidos empoatados: ') \n",
        "part_per = input('Ingrese los partidos perdidos: ')\n",
        "part_total = int(part_gan) + int(part_emp) + int(part_per)\n",
        "\n",
        "print(\"El promedio de todos los partidos jugados en la temporada\")\n",
        "      \n",
        "      \n",
        "\n",
        "print(('de '),part_total ,\"partidos, En\" ' partidos ganados: ',part_gan , ', partidos empatados: ', part_emp , ', partidos perdidos: ',int(part_total) - int(part_gan) - int(part_emp), ', Total de puntos: ' ,  int(part_gan)* 3 + int(part_emp) * 1 )\n",
        "\n",
        "print('y el promedio en ',part_total,\"partidos es: \" ,(int(part_gan)* 3 + int(part_emp) * 1 ) / int(part_total))\n",
        "\n"
      ],
      "metadata": {
        "colab": {
          "base_uri": "https://localhost:8080/"
        },
        "id": "GOBYvFcjXS02",
        "outputId": "7d108996-4ba3-4f2b-9a4a-9e04e663ee9b"
      },
      "execution_count": 12,
      "outputs": [
        {
          "output_type": "stream",
          "name": "stdout",
          "text": [
            "Partidos River plate - Categoría Junior\n",
            "Ingrese los partidos ganados: 12\n",
            "Ingrese los partidos empoatados: 4\n",
            "Ingrese los partidos perdidos: 7\n",
            "El promedio de todos los partidos jugados en la temporada\n",
            "de  23 partidos, En partidos ganados:  12 , partidos empatados:  4 , partidos perdidos:  7 , Total de puntos:  40\n",
            "y el promedio en  23 partidos es:  1.7391304347826086\n"
          ]
        }
      ]
    }
  ]
}