{
  "nbformat": 4,
  "nbformat_minor": 0,
  "metadata": {
    "colab": {
      "provenance": [],
      "authorship_tag": "ABX9TyNt2vlQ0ee22MsKbkpuyLRN",
      "include_colab_link": true
    },
    "kernelspec": {
      "name": "python3",
      "display_name": "Python 3"
    },
    "language_info": {
      "name": "python"
    }
  },
  "cells": [
    {
      "cell_type": "markdown",
      "metadata": {
        "id": "view-in-github",
        "colab_type": "text"
      },
      "source": [
        "<a href=\"https://colab.research.google.com/github/jcorales/python/blob/set-and-dic/set_and_dic.ipynb\" target=\"_parent\"><img src=\"https://colab.research.google.com/assets/colab-badge.svg\" alt=\"Open In Colab\"/></a>"
      ]
    },
    {
      "cell_type": "code",
      "execution_count": 9,
      "metadata": {
        "colab": {
          "base_uri": "https://localhost:8080/"
        },
        "id": "GtwXwt7lHdRr",
        "outputId": "84c80640-01ba-47e0-a438-47ce0ae6dd67"
      },
      "outputs": [
        {
          "output_type": "stream",
          "name": "stdout",
          "text": [
            "{2018: 'Francia', 2014: 'Alemania', 2010: 'España', 2006: 'Italia', 2002: 'Brasil', 1998: 'Francia', 1994: 'Brasil', 1990: 'Alemania', 2022: 'Argentina'}\n",
            "el ganador en el  2018 fué Francia\n",
            "el ganador en el  2014 fué Alemania\n",
            "el ganador en el  2010 fué España\n",
            "el ganador en el  2006 fué Italia\n",
            "el ganador en el  2002 fué Brasil\n",
            "el ganador en el  1998 fué Francia\n",
            "el ganador en el  1994 fué Brasil\n",
            "el ganador en el  1990 fué Alemania\n",
            "el ganador en el  2022 fué Argentina\n"
          ]
        }
      ],
      "source": [
        "mundiales = {2018: \"Francia\",\n",
        "    2014: \"Alemania\",\n",
        "    2010: \"España\",\n",
        "    2006: \"Italia\",\n",
        "    2002: \"Brasil\",\n",
        "    1998: \"Francia\",\n",
        "    1994: \"Brasil\",\n",
        "    1990: \"Alemania\"}\n",
        "mundiales[2022] = \"Argentina\"\n",
        "print(mundiales)\n",
        "\n",
        "for ganador in mundiales:\n",
        "  print('el ganador en el ',ganador,'fué',mundiales[ganador])"
      ]
    }
  ]
}